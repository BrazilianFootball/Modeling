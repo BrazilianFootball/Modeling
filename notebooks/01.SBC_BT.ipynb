{
 "cells": [
  {
   "cell_type": "code",
   "execution_count": 1,
   "metadata": {
    "vscode": {
     "languageId": "r"
    }
   },
   "outputs": [
    {
     "name": "stderr",
     "output_type": "stream",
     "text": [
      "This is cmdstanr version 0.7.1\n",
      "\n",
      "- CmdStanR documentation and vignettes: mc-stan.org/cmdstanr\n",
      "\n",
      "- CmdStan path: /Users/igor.michels/.cmdstan/cmdstan-2.34.1\n",
      "\n",
      "- CmdStan version: 2.34.1\n",
      "\n",
      "\n",
      "A newer version of CmdStan is available. See ?install_cmdstan() to install it.\n",
      "To disable this check set option or environment variable CMDSTANR_NO_VER_CHECK=TRUE.\n",
      "\n",
      "-- \u001b[1mAttaching core tidyverse packages\u001b[22m ------------------------ tidyverse 2.0.0 --\n",
      "\u001b[32mv\u001b[39m \u001b[34mdplyr    \u001b[39m 1.1.4     \u001b[32mv\u001b[39m \u001b[34mreadr    \u001b[39m 2.1.4\n",
      "\u001b[32mv\u001b[39m \u001b[34mforcats  \u001b[39m 1.0.0     \u001b[32mv\u001b[39m \u001b[34mstringr  \u001b[39m 1.5.1\n",
      "\u001b[32mv\u001b[39m \u001b[34mggplot2  \u001b[39m 3.5.0     \u001b[32mv\u001b[39m \u001b[34mtibble   \u001b[39m 3.2.1\n",
      "\u001b[32mv\u001b[39m \u001b[34mlubridate\u001b[39m 1.9.3     \u001b[32mv\u001b[39m \u001b[34mtidyr    \u001b[39m 1.3.1\n",
      "\u001b[32mv\u001b[39m \u001b[34mpurrr    \u001b[39m 1.0.2     \n",
      "-- \u001b[1mConflicts\u001b[22m ------------------------------------------ tidyverse_conflicts() --\n",
      "\u001b[31mx\u001b[39m \u001b[34mdplyr\u001b[39m::\u001b[32mfilter()\u001b[39m  masks \u001b[34mstats\u001b[39m::filter()\n",
      "\u001b[31mx\u001b[39m \u001b[34mpurrr\u001b[39m::\u001b[32mflatten()\u001b[39m masks \u001b[34mjsonlite\u001b[39m::flatten()\n",
      "\u001b[31mx\u001b[39m \u001b[34mdplyr\u001b[39m::\u001b[32mlag()\u001b[39m     masks \u001b[34mstats\u001b[39m::lag()\n",
      "\u001b[36mi\u001b[39m Use the conflicted package (\u001b[3m\u001b[34m<http://conflicted.r-lib.org/>\u001b[39m\u001b[23m) to force all conflicts to become errors\n"
     ]
    },
    {
     "name": "stdout",
     "output_type": "stream",
     "text": [
      "Running make \\\n",
      "  /var/folders/67/qnnhzk_15ydg7t3gr6_lmx8r0000gq/T/RtmpiKQpRG/model-43763dd10f4a \\\n",
      "  \"STANCFLAGS +=  --name='BT_model_1_model'\"\n",
      "\n",
      "--- Translating Stan model to C++ code ---\n",
      "bin/stanc --name='BT_model_1_model' --o=/var/folders/67/qnnhzk_15ydg7t3gr6_lmx8r0000gq/T/RtmpiKQpRG/model-43763dd10f4a.hpp /var/folders/67/qnnhzk_15ydg7t3gr6_lmx8r0000gq/T/RtmpiKQpRG/model-43763dd10f4a.stan\n",
      "\n",
      "--- Compiling C++ code ---\n",
      "clang++ -std=c++1y -Wno-unknown-warning-option -Wno-tautological-compare -Wno-sign-compare -D_REENTRANT -Wno-ignored-attributes      -I stan/lib/stan_math/lib/tbb_2020.3/include    -O3 -I src -I stan/src -I stan/lib/rapidjson_1.1.0/ -I lib/CLI11-1.9.1/ -I stan/lib/stan_math/ -I stan/lib/stan_math/lib/eigen_3.4.0 -I stan/lib/stan_math/lib/boost_1.81.0 -I stan/lib/stan_math/lib/sundials_6.1.1/include -I stan/lib/stan_math/lib/sundials_6.1.1/src/sundials    -DBOOST_DISABLE_ASSERTS          -c -include-pch stan/src/stan/model/model_header_15_0.hpp.gch -x c++ -o /var/folders/67/qnnhzk_15ydg7t3gr6_lmx8r0000gq/T/RtmpiKQpRG/model-43763dd10f4a.o /var/folders/67/qnnhzk_15ydg7t3gr6_lmx8r0000gq/T/RtmpiKQpRG/model-43763dd10f4a.hpp\n",
      "\n",
      "--- Linking model ---\n",
      "clang++ -std=c++1y -Wno-unknown-warning-option -Wno-tautological-compare -Wno-sign-compare -D_REENTRANT -Wno-ignored-attributes      -I stan/lib/stan_math/lib/tbb_2020.3/include    -O3 -I src -I stan/src -I stan/lib/rapidjson_1.1.0/ -I lib/CLI11-1.9.1/ -I stan/lib/stan_math/ -I stan/lib/stan_math/lib/eigen_3.4.0 -I stan/lib/stan_math/lib/boost_1.81.0 -I stan/lib/stan_math/lib/sundials_6.1.1/include -I stan/lib/stan_math/lib/sundials_6.1.1/src/sundials    -DBOOST_DISABLE_ASSERTS               -Wl,-L,\"/Users/igor.michels/.cmdstan/cmdstan-2.34.1/stan/lib/stan_math/lib/tbb\" -Wl,-rpath,\"/Users/igor.michels/.cmdstan/cmdstan-2.34.1/stan/lib/stan_math/lib/tbb\"        /var/folders/67/qnnhzk_15ydg7t3gr6_lmx8r0000gq/T/RtmpiKQpRG/model-43763dd10f4a.o src/cmdstan/main.o       -ltbb   stan/lib/stan_math/lib/sundials_6.1.1/lib/libsundials_nvecserial.a stan/lib/stan_math/lib/sundials_6.1.1/lib/libsundials_cvodes.a stan/lib/stan_math/lib/sundials_6.1.1/lib/libsundials_idas.a stan/lib/stan_math/lib/sundials_6.1.1/lib/libsundials_kinsol.a  stan/lib/stan_math/lib/tbb/libtbb.dylib stan/lib/stan_math/lib/tbb/libtbbmalloc.dylib stan/lib/stan_math/lib/tbb/libtbbmalloc_proxy.dylib -o /var/folders/67/qnnhzk_15ydg7t3gr6_lmx8r0000gq/T/RtmpiKQpRG/model-43763dd10f4a\n",
      "rm /var/folders/67/qnnhzk_15ydg7t3gr6_lmx8r0000gq/T/RtmpiKQpRG/model-43763dd10f4a.hpp /var/folders/67/qnnhzk_15ydg7t3gr6_lmx8r0000gq/T/RtmpiKQpRG/model-43763dd10f4a.o\n"
     ]
    }
   ],
   "source": [
    "library(SBC);\n",
    "library(cmdstanr);\n",
    "library(jsonlite);\n",
    "library(tidyverse);\n",
    "options(mc.cores = parallel::detectCores());\n",
    "library(future);\n",
    "plan(multisession);\n",
    "\n",
    "options(SBC.verbose = TRUE);\n",
    "options(SBC.min_chunk_size = 5);\n",
    "options(cmdstanr_verbose = TRUE);\n",
    "\n",
    "cache_dir <- \"./SBC_cache\"\n",
    "if(!dir.exists(cache_dir)) {\n",
    "    dir.create(cache_dir)\n",
    "}\n",
    "\n",
    "ALPHA <- 0.05\n",
    "model_BT_1 <- cmdstanr::cmdstan_model(\"../models/BT_model_1.stan\")\n",
    "model_BT_2 <- cmdstanr::cmdstan_model(\"../models/BT_model_2.stan\")\n"
   ]
  },
  {
   "cell_type": "code",
   "execution_count": 2,
   "metadata": {
    "vscode": {
     "languageId": "r"
    }
   },
   "outputs": [],
   "source": [
    "N_SIMS <- 100\n",
    "N_CLUBS <- 20\n",
    "N_ITER_WARMUP <- 10000\n",
    "N_ITER_SAMPLING <- 10000\n",
    "N_CHAINS <- 4\n",
    "ADAPT_DELTA <- 0.8\n",
    "ADAPT_TREE_DEPTH <- 10\n",
    "REFRESH <- 100\n",
    "SHOW_MESSAGES <- TRUE\n"
   ]
  },
  {
   "cell_type": "code",
   "execution_count": 3,
   "metadata": {
    "vscode": {
     "languageId": "r"
    }
   },
   "outputs": [],
   "source": [
    "data_generator_single_BT_1 <- function(n_clubs){\n",
    "    n_seasons <- 1\n",
    "    clubs <- sprintf(\"Club %02d\", 1:n_clubs)\n",
    "    clubs <- 1:n_clubs\n",
    "    force <- rnorm(length(clubs))\n",
    "    df <- data.frame(Club = clubs, Force = force)\n",
    "    data <- merge(df, df, by = NULL) %>% filter(Club.x != Club.y)\n",
    "    data$prob.home <- exp(data$Force.x) / (exp(data$Force.x) + exp(data$Force.y))\n",
    "    data$home.wins <- 0\n",
    "\n",
    "    for (i in 1:n_seasons) {\n",
    "        data$random <- runif(n_clubs * (n_clubs - 1))\n",
    "        data$home.wins <- data$home.wins + (data$random <  data$prob.home) * 1\n",
    "    }\n",
    "\n",
    "    data$away.wins <- n_seasons - data$home.wins\n",
    "    data <- subset(data, select = -random)\n",
    "    data <- subset(data, select = -prob.home)\n",
    "    names(data) <- c(\"home_name\", \"home_force\", \"away_name\", \"away_force\",\n",
    "                     \"home_wins\", \"away_wins\")\n",
    "\n",
    "    list(\n",
    "        variables = list(\n",
    "            skill = force\n",
    "        ),\n",
    "        generated = list(\n",
    "            num_games = nrow(data),\n",
    "            num_teams = n_clubs,\n",
    "            team1 = data$home_name,\n",
    "            team2 = data$away_name,\n",
    "            team1_win = data$home_wins\n",
    "        )\n",
    "    )\n",
    "}"
   ]
  },
  {
   "cell_type": "code",
   "execution_count": 4,
   "metadata": {
    "vscode": {
     "languageId": "r"
    }
   },
   "outputs": [],
   "source": [
    "data_generator_single_BT_2 <- function(n_clubs){\n",
    "    n_seasons <- 1\n",
    "    clubs <- sprintf(\"Club %02d\", 1:n_clubs)\n",
    "    clubs <- 1:n_clubs\n",
    "    force <- rnorm(length(clubs))\n",
    "    home_force <- rnorm(1)\n",
    "    df <- data.frame(Club = clubs, Force = force)\n",
    "    data <- merge(df, df, by = NULL) %>% filter(Club.x != Club.y)\n",
    "    data$prob.home <- exp(data$Force.x + home_force) / (exp(data$Force.x) + exp(data$Force.y))\n",
    "    data$home.wins <- 0\n",
    "\n",
    "    for (i in 1:n_seasons) {\n",
    "        data$random <- runif(n_clubs * (n_clubs - 1))\n",
    "        data$home.wins <- data$home.wins + (data$random <  data$prob.home) * 1\n",
    "    }\n",
    "\n",
    "    data$away.wins <- n_seasons - data$home.wins\n",
    "    data <- subset(data, select = -random)\n",
    "    data <- subset(data, select = -prob.home)\n",
    "    names(data) <- c(\"home_name\", \"home_force\", \"away_name\", \"away_force\",\n",
    "                     \"home_wins\", \"away_wins\")\n",
    "\n",
    "    list(\n",
    "        variables = list(\n",
    "            skill = force,\n",
    "            home_advantage = home_force\n",
    "        ),\n",
    "        generated = list(\n",
    "            num_games = nrow(data),\n",
    "            num_teams = n_clubs,\n",
    "            team1 = data$home_name,\n",
    "            team2 = data$away_name,\n",
    "            team1_win = data$home_wins\n",
    "        )\n",
    "    )\n",
    "}"
   ]
  },
  {
   "cell_type": "code",
   "execution_count": 5,
   "metadata": {
    "vscode": {
     "languageId": "r"
    }
   },
   "outputs": [
    {
     "name": "stderr",
     "output_type": "stream",
     "text": [
      "Cache file exists but the backend hash differs. Will recompute.\n",
      "\n"
     ]
    }
   ],
   "source": [
    "set.seed(0)\n",
    "data_generator_BT_1 <- SBC_generator_function(data_generator_single_BT_1, n_clubs = N_CLUBS)\n",
    "dataset_BT_1 <- generate_datasets(data_generator_BT_1, N_SIMS)\n",
    "backend_BT_1 <- SBC_backend_cmdstan_sample(\n",
    "    model_BT_1,\n",
    "    iter_warmup = N_ITER_WARMUP,\n",
    "    iter_sampling = N_ITER_SAMPLING,\n",
    "    chains = N_CHAINS,\n",
    "    adapt_delta = ADAPT_DELTA,\n",
    "    max_treedepth = ADAPT_TREE_DEPTH,\n",
    "    refresh = REFRESH,\n",
    "    show_messages = SHOW_MESSAGES\n",
    ")\n",
    "\n",
    "results_BT_1 <- compute_SBC(\n",
    "    dataset_BT_1,\n",
    "    backend_BT_1,\n",
    "    keep_fit = FALSE,\n",
    "    cache_mode = \"results\",\n",
    "    cache_location = file.path(cache_dir, \"results_BT_1\")\n",
    ")\n",
    "\n",
    "write.csv(\n",
    "    results_BT_1$stats,\n",
    "    file = \"SBC_cache/results_BT_1.csv\"\n",
    ")"
   ]
  },
  {
   "cell_type": "code",
   "execution_count": null,
   "metadata": {
    "vscode": {
     "languageId": "r"
    }
   },
   "outputs": [],
   "source": [
    "set.seed(0)\n",
    "data_generator_BT_2 <- SBC_generator_function(data_generator_single_BT_2, n_clubs = N_CLUBS)\n",
    "dataset_BT_2 <- generate_datasets(data_generator_BT_2, N_SIMS)\n",
    "backend_BT_2 <- SBC_backend_cmdstan_sample(\n",
    "    model_BT_2,\n",
    "    iter_warmup = N_ITER_WARMUP,\n",
    "    iter_sampling = N_ITER_SAMPLING,\n",
    "    chains = N_CHAINS,\n",
    "    adapt_delta = ADAPT_DELTA,\n",
    "    max_treedepth = ADAPT_TREE_DEPTH,\n",
    "    refresh = REFRESH,\n",
    "    show_messages = SHOW_MESSAGES\n",
    ")\n",
    "\n",
    "results_BT_2 <- compute_SBC(\n",
    "    dataset_BT_2,\n",
    "    backend_BT_2,\n",
    "    keep_fit = FALSE,\n",
    "    cache_mode = \"results\",\n",
    "    cache_location = file.path(cache_dir, \"results_BT_2\")\n",
    ")\n",
    "    \n",
    "write.csv(\n",
    "    results_BT_2$stats,\n",
    "    file = \"SBC_cache/results_BT_2.csv\"\n",
    ")"
   ]
  },
  {
   "cell_type": "code",
   "execution_count": null,
   "metadata": {
    "vscode": {
     "languageId": "r"
    }
   },
   "outputs": [],
   "source": [
    "plot_rank_hist(results_BT_1)\n",
    "plot_ecdf(results_BT_1)\n",
    "plot_ecdf_diff(results_BT_1)"
   ]
  },
  {
   "cell_type": "code",
   "execution_count": null,
   "metadata": {
    "vscode": {
     "languageId": "r"
    }
   },
   "outputs": [],
   "source": [
    "plot_rank_hist(results_BT_2)\n",
    "plot_ecdf(results_BT_2)\n",
    "plot_ecdf_diff(results_BT_2)"
   ]
  },
  {
   "cell_type": "code",
   "execution_count": null,
   "metadata": {
    "vscode": {
     "languageId": "r"
    }
   },
   "outputs": [],
   "source": [
    "results <- results_BT_1\n",
    "graph <- plot_ecdf(results)\n",
    "plot_data <- ggplot_build(graph)$data\n",
    "confidence_interval <- plot_data[[1]]\n",
    "ecdf <- plot_data[[2]]\n",
    "\n",
    "df1 <- merge(select(confidence_interval, - c(colour, fill, group, flipped_aes, linewidth, linetype, alpha, y)),\n",
    "             select(ecdf, - c(colour, fill, group, linewidth, linetype, alpha)),\n",
    "             by = c(\"PANEL\", \"x\"), all.x = TRUE) %>%\n",
    "       group_by(PANEL, x) %>%\n",
    "       summarize(ymax = max(ymax, na.rm = TRUE),\n",
    "                 ymin = max(ymin, na.rm = TRUE),\n",
    "                 y = max(y, na.rm = TRUE))\n",
    "\n",
    "df1$out <- (df1$ymax < df1$y) + (df1$ymin > df1$y)\n",
    "df1 <- df1 %>% group_by(PANEL) %>% summarise(out_ratio = sum(out))\n",
    "df1$out_ratio <- df1$out_ratio / length(unique(ecdf$x))\n",
    "df1$out <- df1$out_ratio > ALPHA\n",
    "\n",
    "graph <- plot_ecdf_diff(results)\n",
    "plot_data <- ggplot_build(graph)$data\n",
    "confidence_interval <- plot_data[[1]]\n",
    "ecdf <- plot_data[[2]]\n",
    "\n",
    "df2 <- merge(select(confidence_interval, - c(colour, fill, group, flipped_aes, linewidth, linetype, alpha, y)),\n",
    "             select(ecdf, - c(colour, fill, group, linewidth, linetype, alpha)),\n",
    "             by = c(\"PANEL\", \"x\"), all.x = TRUE) %>%\n",
    "       group_by(PANEL, x) %>%\n",
    "       summarize(ymax = max(ymax, na.rm = TRUE),\n",
    "                 ymin = max(ymin, na.rm = TRUE),\n",
    "                 y = max(y, na.rm = TRUE))\n",
    "\n",
    "df2$out <- (df2$ymax < df2$y) + (df2$ymin > df2$y)\n",
    "df2 <- df2 %>% group_by(PANEL) %>% summarise(out_ratio = sum(out))\n",
    "df2$out_ratio <- df2$out_ratio / length(unique(ecdf$x))\n",
    "df2$out <- df2$out_ratio > ALPHA\n",
    "\n",
    "final_df <- merge(df1, df2, by = \"PANEL\", suffixes = c(\"\", \"_diff\"))\n",
    "c(mean(as.numeric(final_df$out)), mean(as.numeric(final_df$out_diff)))"
   ]
  },
  {
   "cell_type": "code",
   "execution_count": null,
   "metadata": {
    "vscode": {
     "languageId": "r"
    }
   },
   "outputs": [],
   "source": [
    "results <- results_BT_2\n",
    "graph <- plot_ecdf(results)\n",
    "plot_data <- ggplot_build(graph)$data\n",
    "confidence_interval <- plot_data[[1]]\n",
    "ecdf <- plot_data[[2]]\n",
    "\n",
    "df1 <- merge(select(confidence_interval, - c(colour, fill, group, flipped_aes, linewidth, linetype, alpha, y)),\n",
    "             select(ecdf, - c(colour, fill, group, linewidth, linetype, alpha)),\n",
    "             by = c(\"PANEL\", \"x\"), all.x = TRUE) %>%\n",
    "       group_by(PANEL, x) %>%\n",
    "       summarize(ymax = max(ymax, na.rm = TRUE),\n",
    "                 ymin = max(ymin, na.rm = TRUE),\n",
    "                 y = max(y, na.rm = TRUE))\n",
    "\n",
    "df1$out <- (df1$ymax < df1$y) + (df1$ymin > df1$y)\n",
    "df1 <- df1 %>% group_by(PANEL) %>% summarise(out_ratio = sum(out))\n",
    "df1$out_ratio <- df1$out_ratio / length(unique(ecdf$x))\n",
    "df1$out <- df1$out_ratio > ALPHA\n",
    "\n",
    "graph <- plot_ecdf_diff(results)\n",
    "plot_data <- ggplot_build(graph)$data\n",
    "confidence_interval <- plot_data[[1]]\n",
    "ecdf <- plot_data[[2]]\n",
    "\n",
    "df2 <- merge(select(confidence_interval, - c(colour, fill, group, flipped_aes, linewidth, linetype, alpha, y)),\n",
    "             select(ecdf, - c(colour, fill, group, linewidth, linetype, alpha)),\n",
    "             by = c(\"PANEL\", \"x\"), all.x = TRUE) %>%\n",
    "       group_by(PANEL, x) %>%\n",
    "       summarize(ymax = max(ymax, na.rm = TRUE),\n",
    "                 ymin = max(ymin, na.rm = TRUE),\n",
    "                 y = max(y, na.rm = TRUE))\n",
    "\n",
    "df2$out <- (df2$ymax < df2$y) + (df2$ymin > df2$y)\n",
    "df2 <- df2 %>% group_by(PANEL) %>% summarise(out_ratio = sum(out))\n",
    "df2$out_ratio <- df2$out_ratio / length(unique(ecdf$x))\n",
    "df2$out <- df2$out_ratio > ALPHA\n",
    "\n",
    "final_df <- merge(df1, df2, by = \"PANEL\", suffixes = c(\"\", \"_diff\"))\n",
    "c(mean(as.numeric(final_df$out)), mean(as.numeric(final_df$out_diff)))"
   ]
  },
  {
   "cell_type": "code",
   "execution_count": 11,
   "metadata": {
    "vscode": {
     "languageId": "r"
    }
   },
   "outputs": [],
   "source": [
    "run_BT_model <- function(min_year, max_year=NULL) {\n",
    "    if (is.null(max_year)) max_year <- min_year\n",
    "\n",
    "    if (min_year == max_year) {\n",
    "        output_path_1 <- paste0(\"../results/results_BT_1_\", min_year, \".csv\")\n",
    "        output_path_2 <- paste0(\"../results/results_BT_2_\", min_year, \".csv\")\n",
    "        input_path <- paste0('../real_data/BT_model_data_', min_year, '.json')\n",
    "    } else {\n",
    "        output_path_1 <- paste0(\"../results/results_BT_1_\", min_year, \"_to_\", max_year, \".csv\")\n",
    "        output_path_2 <- paste0(\"../results/results_BT_2_\", min_year, \"_to_\", max_year, \".csv\")\n",
    "        input_path <- paste0('../real_data/BT_model_data_', min_year, '_to_', max_year, '.json')\n",
    "    }\n",
    "\n",
    "    if (!file.exists(output_path_1)) {\n",
    "        data <- read_json(input_path)\n",
    "        data[[\"teams\"]] <- NULL\n",
    "        \n",
    "        capture.output({\n",
    "            fit_BT_1 <- suppressMessages(\n",
    "                suppressWarnings(\n",
    "                    model_BT_1$sample(\n",
    "                        data = data,\n",
    "                        chains = N_CHAINS,\n",
    "                        parallel_chains = N_CHAINS,\n",
    "                        refresh = 500\n",
    "                    )\n",
    "                )\n",
    "            )\n",
    "        })\n",
    "\n",
    "        results_BT_1 <- fit_BT_1$summary(\n",
    "            variables = NULL,\n",
    "            posterior::default_summary_measures(),\n",
    "            extra_quantiles = ~posterior::quantile2(., probs = c(.0275, .975))\n",
    "        )\n",
    "\n",
    "        write.csv(results_BT_1, file = output_path_1, row.names = FALSE)\n",
    "    }\n",
    "\n",
    "\n",
    "    if (!file.exists(output_path_2)) {\n",
    "        data <- read_json(input_path)\n",
    "        data[[\"teams\"]] <- NULL\n",
    "        \n",
    "        capture.output({\n",
    "            fit_BT_2 <- suppressMessages(\n",
    "                suppressWarnings(\n",
    "                    model_BT_2$sample(\n",
    "                        data = data,\n",
    "                        chains = N_CHAINS,\n",
    "                        parallel_chains = N_CHAINS,\n",
    "                        refresh = 500\n",
    "                    )\n",
    "                )\n",
    "            )\n",
    "        })\n",
    "\n",
    "        results_BT_2 <- fit_BT_2$summary(\n",
    "            variables = NULL,\n",
    "            posterior::default_summary_measures(),\n",
    "            extra_quantiles = ~posterior::quantile2(., probs = c(.0275, .975))\n",
    "        )\n",
    "\n",
    "        write.csv(results_BT_2, file = output_path_2, row.names = FALSE)\n",
    "    }\n",
    "}"
   ]
  },
  {
   "cell_type": "code",
   "execution_count": null,
   "metadata": {
    "vscode": {
     "languageId": "r"
    }
   },
   "outputs": [],
   "source": [
    "for (year in 2019:2023) {\n",
    "    run_BT_model(year)\n",
    "    message(paste(\"Completed processing for year\", year))\n",
    "}\n",
    "\n",
    "run_BT_model(2019, 2023)\n",
    "run_BT_model(2014, 2023)"
   ]
  },
  {
   "cell_type": "code",
   "execution_count": null,
   "metadata": {
    "vscode": {
     "languageId": "r"
    }
   },
   "outputs": [],
   "source": []
  }
 ],
 "metadata": {
  "kernelspec": {
   "display_name": "R",
   "language": "R",
   "name": "ir"
  },
  "language_info": {
   "codemirror_mode": "r",
   "file_extension": ".r",
   "mimetype": "text/x-r-source",
   "name": "R",
   "pygments_lexer": "r",
   "version": "4.3.2"
  },
  "orig_nbformat": 4
 },
 "nbformat": 4,
 "nbformat_minor": 2
}
