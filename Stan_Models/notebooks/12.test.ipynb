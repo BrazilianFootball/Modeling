{
 "cells": [
  {
   "cell_type": "code",
   "execution_count": null,
   "metadata": {},
   "outputs": [],
   "source": [
    "import json\n",
    "import numpy as np\n",
    "import pandas as pd\n",
    "import plotly.express as px\n",
    "\n",
    "from itertools import product"
   ]
  },
  {
   "cell_type": "code",
   "execution_count": null,
   "metadata": {},
   "outputs": [],
   "source": [
    "def generate_parameters(initial_round, mode='random'):\n",
    "    home_goals = np.array(DATA['goals_team1'][:(initial_round - 1) * 10])\n",
    "    away_goals = np.array(DATA['goals_team2'][:(initial_round - 1) * 10])\n",
    "    home_team = np.array(DATA['team1'][:(initial_round - 1) * 10])\n",
    "    away_team = np.array(DATA['team2'][:(initial_round - 1) * 10])\n",
    "    complete_home_team = np.array(DATA['team1'])\n",
    "    complete_away_team = np.array(DATA['team2'])\n",
    "\n",
    "    home_means = np.zeros(N_GAMES)\n",
    "    away_means = np.zeros(N_GAMES)\n",
    "    if mode == 'random' or initial_round < 5:\n",
    "        home_means += np.abs(np.random.normal(size=N_GAMES))\n",
    "        away_means += np.abs(np.random.normal(size=N_GAMES))\n",
    "        # home_means += np.abs(np.random.normal(size=(N_SIMS, N_GAMES)))\n",
    "        # away_means += np.abs(np.random.normal(size=(N_SIMS, N_GAMES)))\n",
    "    elif mode == 'simple_poisson':\n",
    "        lam = np.mean(np.hstack((home_goals, away_goals)))\n",
    "        home_means += lam * np.ones(N_GAMES)\n",
    "        away_means += lam * np.ones(N_GAMES)\n",
    "    elif mode == 'club_poisson':\n",
    "        for team in range(1, N_TEAMS + 1):\n",
    "            goals = np.hstack((home_goals[home_team == team], away_goals[away_team == team]))\n",
    "            lam = np.mean(goals)\n",
    "            home_means += lam * (complete_home_team == team)\n",
    "            away_means += lam * (complete_away_team == team)\n",
    "    elif mode == 'club_poisson_v2':\n",
    "        for team in range(1, N_TEAMS + 1):\n",
    "            home_lam = np.mean(home_goals[home_team == team])\n",
    "            away_lam = np.mean(away_goals[away_team == team])\n",
    "            home_means += home_lam * (complete_home_team == team)\n",
    "            away_means += away_lam * (complete_away_team == team)\n",
    "\n",
    "    return home_means, away_means"
   ]
  },
  {
   "cell_type": "code",
   "execution_count": null,
   "metadata": {},
   "outputs": [],
   "source": [
    "def simulate_games(home_means, away_means, initial_round=1):\n",
    "    if home_means.shape == (N_SIMS, N_GAMES):\n",
    "        home_scores = np.random.poisson(home_means)\n",
    "        away_scores = np.random.poisson(away_means)\n",
    "    else:\n",
    "        home_scores = np.random.poisson(home_means, size=(N_SIMS, home_means.shape[0]))\n",
    "        away_scores = np.random.poisson(away_means, size=(N_SIMS, away_means.shape[0]))\n",
    "\n",
    "    if initial_round > 1:\n",
    "        home_goals = np.array(DATA['goals_team1'][:(initial_round - 1) * 10])\n",
    "        away_goals = np.array(DATA['goals_team2'][:(initial_round - 1) * 10])\n",
    "        home_scores[:, :(initial_round - 1) * 10] = home_goals\n",
    "        away_scores[:, :(initial_round - 1) * 10] = away_goals\n",
    "\n",
    "    return home_scores, away_scores"
   ]
  },
  {
   "cell_type": "code",
   "execution_count": null,
   "metadata": {},
   "outputs": [],
   "source": [
    "def calculate_standings(home_scores, away_scores, home_team, away_team):\n",
    "    standings = np.zeros((N_SIMS, N_TEAMS, DIM_STATS), dtype=int)\n",
    "    for i in range(N_TEAMS):\n",
    "        # points\n",
    "        standings[:, i, 0] += 3 * np.sum(home_scores[:, home_team == i + 1] > away_scores[:, home_team == i + 1], axis=1)\n",
    "        standings[:, i, 0] += 3 * np.sum(away_scores[:, away_team == i + 1] > home_scores[:, away_team == i + 1], axis=1)\n",
    "        standings[:, i, 0] += 1 * np.sum(home_scores[:, home_team == i + 1] == away_scores[:, home_team == i + 1], axis=1)\n",
    "        standings[:, i, 0] += 1 * np.sum(away_scores[:, away_team == i + 1] == home_scores[:, away_team == i + 1], axis=1)\n",
    "\n",
    "        # wins\n",
    "        standings[:, i, 1] += 1 * np.sum(home_scores[:, home_team == i + 1] > away_scores[:, home_team == i + 1], axis=1)\n",
    "        standings[:, i, 1] += 1 * np.sum(away_scores[:, away_team == i + 1] > home_scores[:, away_team == i + 1], axis=1)\n",
    "\n",
    "        # goals for\n",
    "        standings[:, i, 2] += np.sum(home_scores[:, home_team == i + 1], axis=1)\n",
    "        standings[:, i, 2] += np.sum(away_scores[:, away_team == i + 1], axis=1)\n",
    "\n",
    "        # goals difference\n",
    "        standings[:, i, 3] += np.sum(home_scores[:, home_team == i + 1] - away_scores[:, home_team == i + 1], axis=1)\n",
    "        standings[:, i, 3] += np.sum(away_scores[:, away_team == i + 1] - home_scores[:, away_team == i + 1], axis=1)\n",
    "\n",
    "    return standings"
   ]
  },
  {
   "cell_type": "code",
   "execution_count": null,
   "metadata": {},
   "outputs": [],
   "source": [
    "def generate_final_position(array, column_indices):\n",
    "    indices = np.argsort(array[..., column_indices[-1]], axis=-1)\n",
    "    for col_idx in column_indices[-2::-1]:\n",
    "        indices = np.take_along_axis(indices, np.argsort(np.take_along_axis(array[..., col_idx], indices, axis=-1), axis=-1), axis=-1)\n",
    "    \n",
    "    indices = indices[..., ::-1]\n",
    "    \n",
    "    return indices"
   ]
  },
  {
   "cell_type": "code",
   "execution_count": null,
   "metadata": {},
   "outputs": [],
   "source": [
    "def calculate_final_position_probabilities(final_positions):\n",
    "    probabilities = np.zeros((N_TEAMS, N_TEAMS))\n",
    "    for club, position in product(range(N_TEAMS), repeat=2):\n",
    "        probabilities[club, position] += sum(final_positions[:, position] == club)\n",
    "\n",
    "    return probabilities / N_SIMS"
   ]
  },
  {
   "cell_type": "code",
   "execution_count": null,
   "metadata": {},
   "outputs": [],
   "source": [
    "def simulate_championship(initial_round=1, mode='random'):\n",
    "    home_team = np.array(DATA['team1'])\n",
    "    away_team = np.array(DATA['team2'])\n",
    "\n",
    "    home_means, away_means = generate_parameters(initial_round, mode=mode)\n",
    "    home_scores, away_scores = simulate_games(home_means, away_means, initial_round=initial_round)\n",
    "    standings = calculate_standings(home_scores, away_scores, home_team, away_team)\n",
    "    standings = generate_final_position(standings, [0, 1, 2, 3])\n",
    "    probabilities = calculate_final_position_probabilities(standings)\n",
    "\n",
    "    return probabilities"
   ]
  },
  {
   "cell_type": "code",
   "execution_count": null,
   "metadata": {},
   "outputs": [],
   "source": [
    "def run_simulations(initial_rounds, mode_list, club_list):\n",
    "    probs = dict()\n",
    "    for initial_round, mode in product(initial_rounds, mode_list):\n",
    "        print(initial_round, mode)\n",
    "        if initial_round not in probs: probs[initial_round] = dict()\n",
    "        if mode not in probs[initial_round]: probs[initial_round][mode] = dict()\n",
    "        probabilities = simulate_championship(initial_round=initial_round, mode=mode)\n",
    "        for i in range(N_TEAMS):\n",
    "            team = TEAMS_NAME[i]\n",
    "            if team in club_list:\n",
    "                probs[initial_round][mode][team] = probabilities[i][0]\n",
    "    \n",
    "    return probs"
   ]
  },
  {
   "cell_type": "code",
   "execution_count": null,
   "metadata": {},
   "outputs": [],
   "source": [
    "def generate_plot(initial_rounds, mode_list, club_list, probs):\n",
    "    data = []\n",
    "    for initial_round in initial_rounds:\n",
    "        for mode in mode_list:\n",
    "            for team in club_list:\n",
    "                data.append({\n",
    "                    'Initial Round': initial_round,\n",
    "                    'Mode': mode,\n",
    "                    'Team': team,\n",
    "                    'Probability': probs[initial_round][mode][team]\n",
    "                })\n",
    "\n",
    "    df = pd.DataFrame(data)\n",
    "\n",
    "    fig = px.line(\n",
    "        df,\n",
    "        x='Initial Round',\n",
    "        y='Probability',\n",
    "        color='Team',\n",
    "        line_dash='Mode' if len(mode_list) > 1 else None,\n",
    "        title='Evolution of Each Team\\'s Probability Over Rounds and Modes' if len(mode_list) > 1 else 'Evolution of Each Team\\'s Probability Over Rounds',\n",
    "        labels={\n",
    "            'Initial Round': 'Initial Round',\n",
    "            'Probability': 'Probability',\n",
    "            'Team': 'Team',\n",
    "            'Mode': 'Mode'\n",
    "        }\n",
    "    )\n",
    "\n",
    "    fig.update_layout(\n",
    "        plot_bgcolor='white',\n",
    "        paper_bgcolor='white',\n",
    "        xaxis=dict(\n",
    "            tickmode='array',\n",
    "            tickvals=[*initial_rounds],\n",
    "            showline=True,\n",
    "            linewidth=2,\n",
    "            linecolor='black',\n",
    "            gridcolor='lightgray'\n",
    "        ),\n",
    "        yaxis=dict(\n",
    "            showline=True,\n",
    "            linewidth=2,\n",
    "            linecolor='black',\n",
    "            gridcolor='lightgray'\n",
    "        ),\n",
    "        legend_title_text='Teams and Modes' if len(mode_list) > 1 else 'Teams'\n",
    "    )\n",
    "\n",
    "    fig.show('png', width=1200)\n"
   ]
  },
  {
   "cell_type": "code",
   "execution_count": null,
   "metadata": {},
   "outputs": [],
   "source": [
    "with open('../real_data/Poisson_model_data_2023.json', 'r') as f: DATA = json.load(f)\n",
    "\n",
    "N_SIMS = 10_000\n",
    "DIM_STATS = 4 # points, wins, goals for, goals difference\n",
    "N_TEAMS = 20\n",
    "N_GAMES = N_TEAMS * (N_TEAMS - 1)\n",
    "TEAMS_NAME = DATA['teams']\n",
    "\n",
    "initial_rounds = range(20, 39)\n",
    "mode_list = ['club_poisson_v2']\n",
    "club_list = ['Flamengo / RJ', 'Palmeiras / SP', 'Botafogo / RJ', 'Atlético Mineiro / MG']\n",
    "probs = run_simulations(initial_rounds, mode_list, club_list)\n",
    "generate_plot(initial_rounds, mode_list, club_list, probs)"
   ]
  },
  {
   "cell_type": "code",
   "execution_count": null,
   "metadata": {},
   "outputs": [],
   "source": [
    "with open('../real_data/Poisson_model_data_2022.json', 'r') as f: DATA = json.load(f)\n",
    "\n",
    "N_SIMS = 10_000\n",
    "DIM_STATS = 4 # points, wins, goals for, goals difference\n",
    "N_TEAMS = 20\n",
    "N_GAMES = N_TEAMS * (N_TEAMS - 1)\n",
    "TEAMS_NAME = DATA['teams']\n",
    "\n",
    "initial_rounds = range(20, 39)\n",
    "mode_list = ['club_poisson_v2']\n",
    "club_list = ['Flamengo / RJ', 'Palmeiras / SP', 'Internacional / RS', 'Fluminense / RJ']\n",
    "probs = run_simulations(initial_rounds, mode_list, club_list)\n",
    "generate_plot(initial_rounds, mode_list, club_list, probs)"
   ]
  },
  {
   "cell_type": "code",
   "execution_count": null,
   "metadata": {},
   "outputs": [],
   "source": [
    "with open('../real_data/Poisson_model_data_2021.json', 'r') as f: DATA = json.load(f)\n",
    "\n",
    "N_SIMS = 10_000\n",
    "DIM_STATS = 4 # points, wins, goals for, goals difference\n",
    "N_TEAMS = 20\n",
    "N_GAMES = N_TEAMS * (N_TEAMS - 1)\n",
    "TEAMS_NAME = DATA['teams']\n",
    "\n",
    "initial_rounds = range(20, 39)\n",
    "mode_list = ['club_poisson_v2']\n",
    "club_list = ['Flamengo / RJ', 'Palmeiras / SP', 'Atlético Mineiro / MG']\n",
    "probs = run_simulations(initial_rounds, mode_list, club_list)\n",
    "generate_plot(initial_rounds, mode_list, club_list, probs)"
   ]
  },
  {
   "cell_type": "code",
   "execution_count": null,
   "metadata": {},
   "outputs": [],
   "source": [
    "with open('../real_data/Poisson_model_data_2020.json', 'r') as f: DATA = json.load(f)\n",
    "\n",
    "N_SIMS = 10_000\n",
    "DIM_STATS = 4 # points, wins, goals for, goals difference\n",
    "N_TEAMS = 20\n",
    "N_GAMES = N_TEAMS * (N_TEAMS - 1)\n",
    "TEAMS_NAME = DATA['teams']\n",
    "\n",
    "initial_rounds = range(20, 39)\n",
    "mode_list = ['club_poisson_v2']\n",
    "club_list = ['Flamengo / RJ', 'Palmeiras / SP', 'Internacional / RS',]\n",
    "probs = run_simulations(initial_rounds, mode_list, club_list)\n",
    "generate_plot(initial_rounds, mode_list, club_list, probs)"
   ]
  },
  {
   "cell_type": "code",
   "execution_count": null,
   "metadata": {},
   "outputs": [],
   "source": [
    "with open('../real_data/Poisson_model_data_2019.json', 'r') as f: DATA = json.load(f)\n",
    "\n",
    "N_SIMS = 10_000\n",
    "DIM_STATS = 4 # points, wins, goals for, goals difference\n",
    "N_TEAMS = 20\n",
    "N_GAMES = N_TEAMS * (N_TEAMS - 1)\n",
    "TEAMS_NAME = DATA['teams']\n",
    "\n",
    "initial_rounds = range(20, 39)\n",
    "mode_list = ['club_poisson_v2']\n",
    "club_list = ['Flamengo / RJ', 'Palmeiras / SP', 'Santos / SP',]\n",
    "probs = run_simulations(initial_rounds, mode_list, club_list)\n",
    "generate_plot(initial_rounds, mode_list, club_list, probs)"
   ]
  },
  {
   "cell_type": "code",
   "execution_count": null,
   "metadata": {},
   "outputs": [],
   "source": []
  }
 ],
 "metadata": {
  "kernelspec": {
   "display_name": "Python 3",
   "language": "python",
   "name": "python3"
  },
  "language_info": {
   "codemirror_mode": {
    "name": "ipython",
    "version": 3
   },
   "file_extension": ".py",
   "mimetype": "text/x-python",
   "name": "python",
   "nbconvert_exporter": "python",
   "pygments_lexer": "ipython3",
   "version": "3.8.12"
  },
  "orig_nbformat": 4,
  "vscode": {
   "interpreter": {
    "hash": "68a818ea200cf26246555ed215b2805781440e4bd9c1dd7c5d891140b3a1e7c0"
   }
  }
 },
 "nbformat": 4,
 "nbformat_minor": 2
}
