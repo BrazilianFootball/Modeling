{
 "cells": [
  {
   "cell_type": "code",
   "execution_count": 1,
   "metadata": {},
   "outputs": [],
   "source": [
    "import pandas as pd\n",
    "\n",
    "from scipy.stats import kstest"
   ]
  },
  {
   "cell_type": "code",
   "execution_count": 2,
   "metadata": {},
   "outputs": [],
   "source": [
    "ALPHA = .05"
   ]
  },
  {
   "cell_type": "code",
   "execution_count": 3,
   "metadata": {},
   "outputs": [
    {
     "data": {
      "text/plain": [
       "0.05"
      ]
     },
     "execution_count": 3,
     "metadata": {},
     "output_type": "execute_result"
    }
   ],
   "source": [
    "stats = pd.read_csv(f'SBC_cache/results_BT_1.csv')\n",
    "stats['rank'] = stats['rank'] / stats['max_rank']\n",
    "fails = list()\n",
    "for var in stats['variable'].unique():\n",
    "    rank_data = stats[stats['variable'] == var]['rank']\n",
    "\n",
    "    ks_statistic, p_value = kstest(rank_data, 'uniform', alternative='two-sided', mode='auto')\n",
    "    if p_value < ALPHA: fails.append(var)\n",
    "\n",
    "len(fails) / len(stats['variable'].unique())"
   ]
  },
  {
   "cell_type": "code",
   "execution_count": 4,
   "metadata": {},
   "outputs": [
    {
     "data": {
      "text/plain": [
       "0.2857142857142857"
      ]
     },
     "execution_count": 4,
     "metadata": {},
     "output_type": "execute_result"
    }
   ],
   "source": [
    "stats = pd.read_csv(f'SBC_cache/results_BT_2.csv')\n",
    "stats['rank'] = stats['rank'] / stats['max_rank']\n",
    "fails = list()\n",
    "for var in stats['variable'].unique():\n",
    "    rank_data = stats[stats['variable'] == var]['rank']\n",
    "\n",
    "    ks_statistic, p_value = kstest(rank_data, 'uniform', alternative='two-sided', mode='auto')\n",
    "    if p_value < ALPHA: fails.append(var)\n",
    "\n",
    "len(fails) / len(stats['variable'].unique())"
   ]
  },
  {
   "cell_type": "code",
   "execution_count": 5,
   "metadata": {},
   "outputs": [
    {
     "data": {
      "text/plain": [
       "0.05"
      ]
     },
     "execution_count": 5,
     "metadata": {},
     "output_type": "execute_result"
    }
   ],
   "source": [
    "stats = pd.read_csv(f'SBC_cache/results_Poisson_1.csv')\n",
    "stats['rank'] = stats['rank'] / stats['max_rank']\n",
    "fails = list()\n",
    "for var in stats['variable'].unique():\n",
    "    rank_data = stats[stats['variable'] == var]['rank']\n",
    "\n",
    "    ks_statistic, p_value = kstest(rank_data, 'uniform', alternative='two-sided', mode='auto')\n",
    "    if p_value < ALPHA: fails.append(var)\n",
    "\n",
    "len(fails) / len(stats['variable'].unique())"
   ]
  },
  {
   "cell_type": "code",
   "execution_count": 6,
   "metadata": {},
   "outputs": [
    {
     "data": {
      "text/plain": [
       "0.047619047619047616"
      ]
     },
     "execution_count": 6,
     "metadata": {},
     "output_type": "execute_result"
    }
   ],
   "source": [
    "stats = pd.read_csv(f'SBC_cache/results_Poisson_2.csv')\n",
    "stats['rank'] = stats['rank'] / stats['max_rank']\n",
    "fails = list()\n",
    "for var in stats['variable'].unique():\n",
    "    rank_data = stats[stats['variable'] == var]['rank']\n",
    "\n",
    "    ks_statistic, p_value = kstest(rank_data, 'uniform', alternative='two-sided', mode='auto')\n",
    "    if p_value < ALPHA: fails.append(var)\n",
    "\n",
    "len(fails) / len(stats['variable'].unique())"
   ]
  },
  {
   "cell_type": "code",
   "execution_count": 7,
   "metadata": {},
   "outputs": [
    {
     "data": {
      "text/plain": [
       "{11: 0.045454545454545456,\n",
       " 12: 0.0375,\n",
       " 13: 0.05384615384615385,\n",
       " 14: 0.05,\n",
       " 15: 0.03333333333333333,\n",
       " 16: 0.065625,\n",
       " 17: 0.09411764705882353,\n",
       " 18: 0.05,\n",
       " 19: 0.08947368421052632,\n",
       " 20: 0.0625}"
      ]
     },
     "execution_count": 7,
     "metadata": {},
     "output_type": "execute_result"
    }
   ],
   "source": [
    "results = dict()\n",
    "for n_players_per_club in range(11, 21):\n",
    "    stats = pd.read_csv(f'SBC_cache/results_Poisson_v2_{n_players_per_club}_players_per_club_stats.csv')\n",
    "    stats['rank'] = stats['rank'] / stats['max_rank']\n",
    "    fails = list()\n",
    "    for var in stats['variable'].unique():\n",
    "        rank_data = stats[stats['variable'] == var]['rank']\n",
    "\n",
    "        ks_statistic, p_value = kstest(rank_data, 'uniform', alternative='two-sided', mode='auto')\n",
    "        if p_value < ALPHA: fails.append(var)\n",
    "\n",
    "    results[n_players_per_club] = len(fails) / len(stats['variable'].unique())\n",
    "\n",
    "results"
   ]
  },
  {
   "cell_type": "code",
   "execution_count": null,
   "metadata": {},
   "outputs": [],
   "source": []
  }
 ],
 "metadata": {
  "kernelspec": {
   "display_name": "Python 3",
   "language": "python",
   "name": "python3"
  },
  "language_info": {
   "codemirror_mode": {
    "name": "ipython",
    "version": 3
   },
   "file_extension": ".py",
   "mimetype": "text/x-python",
   "name": "python",
   "nbconvert_exporter": "python",
   "pygments_lexer": "ipython3",
   "version": "3.8.12"
  },
  "orig_nbformat": 4,
  "vscode": {
   "interpreter": {
    "hash": "68a818ea200cf26246555ed215b2805781440e4bd9c1dd7c5d891140b3a1e7c0"
   }
  }
 },
 "nbformat": 4,
 "nbformat_minor": 2
}
