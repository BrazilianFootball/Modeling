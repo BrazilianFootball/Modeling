{
 "cells": [
  {
   "cell_type": "code",
   "execution_count": 1,
   "metadata": {},
   "outputs": [],
   "source": [
    "import json"
   ]
  },
  {
   "cell_type": "code",
   "execution_count": 2,
   "metadata": {},
   "outputs": [],
   "source": [
    "def make_BT_model_data(data, year):\n",
    "    BT_models = dict()\n",
    "\n",
    "    BT_models['num_games'] = 380 * 2\n",
    "    BT_models['num_teams'] = 20\n",
    "    BT_models['team1'] = list()\n",
    "    BT_models['team2'] = list()\n",
    "    BT_models['team1_win'] = list()\n",
    "    BT_models['teams'] = list()\n",
    "    for game in range(1, 381):\n",
    "        game = str(game).zfill(3)\n",
    "        home = data[game]['Home']\n",
    "        away = data[game]['Away']\n",
    "        home_score, away_score = data[game]['Result'].split(' X ')\n",
    "        home_score, away_score = int(home_score), int(away_score)\n",
    "        if home not in BT_models['teams']: BT_models['teams'].append(home)\n",
    "        if away not in BT_models['teams']: BT_models['teams'].append(away)\n",
    "\n",
    "        home_index = BT_models['teams'].index(home) + 1\n",
    "        away_index = BT_models['teams'].index(away) + 1\n",
    "        BT_models['team1'].append(home_index)\n",
    "        BT_models['team1'].append(home_index)\n",
    "        BT_models['team2'].append(away_index)\n",
    "        BT_models['team2'].append(away_index)\n",
    "        if home_score > away_score:\n",
    "            BT_models['team1_win'].append(1)\n",
    "            BT_models['team1_win'].append(1)\n",
    "        elif home_score < away_score:\n",
    "            BT_models['team1_win'].append(0)\n",
    "            BT_models['team1_win'].append(0)\n",
    "        else:\n",
    "            BT_models['team1_win'].append(1)\n",
    "            BT_models['team1_win'].append(0)\n",
    "\n",
    "    with open(f'../real_data/BT_model_data_{year}.json', 'w') as f: json.dump(BT_models, f)"
   ]
  },
  {
   "cell_type": "code",
   "execution_count": 3,
   "metadata": {},
   "outputs": [],
   "source": [
    "def make_Poisson_model_data(data, year):\n",
    "    Poisson_models = dict()\n",
    "\n",
    "    Poisson_models['num_games'] = 380\n",
    "    Poisson_models['num_teams'] = 20\n",
    "    Poisson_models['team1'] = list()\n",
    "    Poisson_models['team2'] = list()\n",
    "    Poisson_models['goals_team1'] = list()\n",
    "    Poisson_models['goals_team2'] = list()\n",
    "    Poisson_models['teams'] = list()\n",
    "    for game in range(1, 381):\n",
    "        game = str(game).zfill(3)\n",
    "        home = data[game]['Home']\n",
    "        away = data[game]['Away']\n",
    "        home_score, away_score = data[game]['Result'].split(' X ')\n",
    "        home_score, away_score = int(home_score), int(away_score)\n",
    "        if home not in Poisson_models['teams']: Poisson_models['teams'].append(home)\n",
    "        if away not in Poisson_models['teams']: Poisson_models['teams'].append(away)\n",
    "\n",
    "        home_index = Poisson_models['teams'].index(home) + 1\n",
    "        away_index = Poisson_models['teams'].index(away) + 1\n",
    "        Poisson_models['team1'].append(home_index)\n",
    "        Poisson_models['team2'].append(away_index)\n",
    "        Poisson_models['goals_team1'].append(home_score)\n",
    "        Poisson_models['goals_team2'].append(away_score)\n",
    "\n",
    "    with open(f'../real_data/Poisson_model_data_{year}.json', 'w') as f: json.dump(Poisson_models, f)"
   ]
  },
  {
   "cell_type": "code",
   "execution_count": 4,
   "metadata": {},
   "outputs": [],
   "source": [
    "def make_KN_model_data(data, year):\n",
    "    KN_models = dict()\n",
    "\n",
    "    KN_models['n_games'] = 380\n",
    "    KN_models['n_clubs'] = 20\n",
    "    KN_models['club_1'] = list()\n",
    "    KN_models['club_2'] = list()\n",
    "    KN_models['goals_club_1'] = list()\n",
    "    KN_models['goals_club_2'] = list()\n",
    "    KN_models['clubs'] = list()\n",
    "    for game in range(1, 381):\n",
    "        game = str(game).zfill(3)\n",
    "        home = data[game]['Home']\n",
    "        away = data[game]['Away']\n",
    "        home_score, away_score = data[game]['Result'].split(' X ')\n",
    "        home_score, away_score = int(home_score), int(away_score)\n",
    "        if home not in KN_models['clubs']: KN_models['clubs'].append(home)\n",
    "        if away not in KN_models['clubs']: KN_models['clubs'].append(away)\n",
    "\n",
    "        home_index = KN_models['clubs'].index(home) + 1\n",
    "        away_index = KN_models['clubs'].index(away) + 1\n",
    "        KN_models['club_1'].append(home_index)\n",
    "        KN_models['club_2'].append(away_index)\n",
    "        KN_models['goals_club_1'].append(home_score)\n",
    "        KN_models['goals_club_2'].append(away_score)\n",
    "\n",
    "    with open(f'../real_data/KN_model_data_{year}.json', 'w') as f: json.dump(KN_models, f)"
   ]
  },
  {
   "cell_type": "code",
   "execution_count": 5,
   "metadata": {},
   "outputs": [],
   "source": [
    "for year in range(2019, 2024):\n",
    "    with open(f'../../../Data/results/processed/Serie_A_{year}_games.json', 'r') as f: data = json.load(f)\n",
    "    make_BT_model_data(data, year)\n",
    "    make_Poisson_model_data(data, year)\n",
    "    make_KN_model_data(data, year)"
   ]
  },
  {
   "cell_type": "code",
   "execution_count": null,
   "metadata": {},
   "outputs": [],
   "source": []
  }
 ],
 "metadata": {
  "kernelspec": {
   "display_name": "Python 3",
   "language": "python",
   "name": "python3"
  },
  "language_info": {
   "codemirror_mode": {
    "name": "ipython",
    "version": 3
   },
   "file_extension": ".py",
   "mimetype": "text/x-python",
   "name": "python",
   "nbconvert_exporter": "python",
   "pygments_lexer": "ipython3",
   "version": "3.8.12"
  },
  "orig_nbformat": 4,
  "vscode": {
   "interpreter": {
    "hash": "68a818ea200cf26246555ed215b2805781440e4bd9c1dd7c5d891140b3a1e7c0"
   }
  }
 },
 "nbformat": 4,
 "nbformat_minor": 2
}
