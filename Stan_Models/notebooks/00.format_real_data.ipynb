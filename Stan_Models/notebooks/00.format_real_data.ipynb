{
 "cells": [
  {
   "cell_type": "code",
   "execution_count": 1,
   "metadata": {},
   "outputs": [],
   "source": [
    "import json\n",
    "\n",
    "with open('../../../Data/results/processed/Serie_A_2023_games.json', 'r') as f: data = json.load(f)"
   ]
  },
  {
   "cell_type": "code",
   "execution_count": 2,
   "metadata": {},
   "outputs": [],
   "source": [
    "clubs = list()\n",
    "BT_models = dict()\n",
    "\n",
    "BT_models['num_jogos'] = 380 * 2\n",
    "BT_models['num_equipes'] = 20\n",
    "BT_models['equipe1'] = list()\n",
    "BT_models['equipe2'] = list()\n",
    "BT_models['vitoria_equipe1'] = list()\n",
    "for game in range(1, 381):\n",
    "    game = str(game).zfill(3)\n",
    "    home = data[game]['Home']\n",
    "    away = data[game]['Away']\n",
    "    home_score, away_score = data[game]['Result'].split(' X ')\n",
    "    home_score, away_score = int(home_score), int(away_score)\n",
    "    if home not in clubs: clubs.append(home)\n",
    "    if away not in clubs: clubs.append(away)\n",
    "\n",
    "    home_index = clubs.index(home) + 1\n",
    "    away_index = clubs.index(away) + 1\n",
    "    BT_models['equipe1'].append(home_index)\n",
    "    BT_models['equipe1'].append(home_index)\n",
    "    BT_models['equipe2'].append(away_index)\n",
    "    BT_models['equipe2'].append(away_index)\n",
    "    if home_score > away_score:\n",
    "        BT_models['vitoria_equipe1'].append(1)\n",
    "        BT_models['vitoria_equipe1'].append(1)\n",
    "    elif home_score < away_score:\n",
    "        BT_models['vitoria_equipe1'].append(0)\n",
    "        BT_models['vitoria_equipe1'].append(0)\n",
    "    else:\n",
    "        BT_models['vitoria_equipe1'].append(1)\n",
    "        BT_models['vitoria_equipe1'].append(0)\n",
    "\n",
    "with open('../real_data/BT_model_data.json', 'w') as f: json.dump(BT_models, f)"
   ]
  },
  {
   "cell_type": "code",
   "execution_count": 3,
   "metadata": {},
   "outputs": [],
   "source": [
    "clubs = list()\n",
    "Poisson_models = dict()\n",
    "\n",
    "Poisson_models['num_jogos'] = 380\n",
    "Poisson_models['num_equipes'] = 20\n",
    "Poisson_models['equipe1'] = list()\n",
    "Poisson_models['equipe2'] = list()\n",
    "Poisson_models['gols_equipe1'] = list()\n",
    "Poisson_models['gols_equipe2'] = list()\n",
    "for game in range(1, 381):\n",
    "    game = str(game).zfill(3)\n",
    "    home = data[game]['Home']\n",
    "    away = data[game]['Away']\n",
    "    home_score, away_score = data[game]['Result'].split(' X ')\n",
    "    home_score, away_score = int(home_score), int(away_score)\n",
    "    if home not in clubs: clubs.append(home)\n",
    "    if away not in clubs: clubs.append(away)\n",
    "\n",
    "    home_index = clubs.index(home) + 1\n",
    "    away_index = clubs.index(away) + 1\n",
    "    Poisson_models['equipe1'].append(home_index)\n",
    "    Poisson_models['equipe2'].append(away_index)\n",
    "    Poisson_models['gols_equipe1'].append(home_score)\n",
    "    Poisson_models['gols_equipe2'].append(away_score)\n",
    "\n",
    "with open('../real_data/Poisson_model_data.json', 'w') as f: json.dump(Poisson_models, f)"
   ]
  },
  {
   "cell_type": "code",
   "execution_count": 4,
   "metadata": {},
   "outputs": [],
   "source": [
    "clubs = list()\n",
    "KN_models = dict()\n",
    "\n",
    "KN_models['n_games'] = 380\n",
    "KN_models['n_clubs'] = 20\n",
    "KN_models['club_1'] = list()\n",
    "KN_models['club_2'] = list()\n",
    "KN_models['goals_club_1'] = list()\n",
    "KN_models['goals_club_2'] = list()\n",
    "for game in range(1, 381):\n",
    "    game = str(game).zfill(3)\n",
    "    home = data[game]['Home']\n",
    "    away = data[game]['Away']\n",
    "    home_score, away_score = data[game]['Result'].split(' X ')\n",
    "    home_score, away_score = int(home_score), int(away_score)\n",
    "    if home not in clubs: clubs.append(home)\n",
    "    if away not in clubs: clubs.append(away)\n",
    "\n",
    "    home_index = clubs.index(home) + 1\n",
    "    away_index = clubs.index(away) + 1\n",
    "    KN_models['club_1'].append(home_index)\n",
    "    KN_models['club_2'].append(away_index)\n",
    "    KN_models['goals_club_1'].append(home_score)\n",
    "    KN_models['goals_club_2'].append(away_score)\n",
    "\n",
    "with open('../real_data/KN_model_data.json', 'w') as f: json.dump(KN_models, f)"
   ]
  }
 ],
 "metadata": {
  "kernelspec": {
   "display_name": "Python 3",
   "language": "python",
   "name": "python3"
  },
  "language_info": {
   "codemirror_mode": {
    "name": "ipython",
    "version": 3
   },
   "file_extension": ".py",
   "mimetype": "text/x-python",
   "name": "python",
   "nbconvert_exporter": "python",
   "pygments_lexer": "ipython3",
   "version": "3.8.12 (default, Apr 25 2023, 18:29:14) \n[Clang 14.0.3 (clang-1403.0.22.14.1)]"
  },
  "orig_nbformat": 4,
  "vscode": {
   "interpreter": {
    "hash": "68a818ea200cf26246555ed215b2805781440e4bd9c1dd7c5d891140b3a1e7c0"
   }
  }
 },
 "nbformat": 4,
 "nbformat_minor": 2
}
