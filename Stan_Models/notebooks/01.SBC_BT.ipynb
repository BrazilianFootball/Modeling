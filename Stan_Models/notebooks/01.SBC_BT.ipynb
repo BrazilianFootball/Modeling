{
 "cells": [
  {
   "cell_type": "code",
   "execution_count": 1,
   "metadata": {
    "vscode": {
     "languageId": "r"
    }
   },
   "outputs": [
    {
     "name": "stderr",
     "output_type": "stream",
     "text": [
      "This is cmdstanr version 0.7.1\n",
      "\n",
      "- CmdStanR documentation and vignettes: mc-stan.org/cmdstanr\n",
      "\n",
      "- CmdStan path: /Users/igor.michels/.cmdstan/cmdstan-2.34.1\n",
      "\n",
      "- CmdStan version: 2.34.1\n",
      "\n",
      "\n",
      "A newer version of CmdStan is available. See ?install_cmdstan() to install it.\n",
      "To disable this check set option or environment variable CMDSTANR_NO_VER_CHECK=TRUE.\n",
      "\n",
      "── \u001b[1mAttaching core tidyverse packages\u001b[22m ──────────────────────── tidyverse 2.0.0 ──\n",
      "\u001b[32m✔\u001b[39m \u001b[34mdplyr    \u001b[39m 1.1.4     \u001b[32m✔\u001b[39m \u001b[34mreadr    \u001b[39m 2.1.4\n",
      "\u001b[32m✔\u001b[39m \u001b[34mforcats  \u001b[39m 1.0.0     \u001b[32m✔\u001b[39m \u001b[34mstringr  \u001b[39m 1.5.1\n",
      "\u001b[32m✔\u001b[39m \u001b[34mggplot2  \u001b[39m 3.5.0     \u001b[32m✔\u001b[39m \u001b[34mtibble   \u001b[39m 3.2.1\n",
      "\u001b[32m✔\u001b[39m \u001b[34mlubridate\u001b[39m 1.9.3     \u001b[32m✔\u001b[39m \u001b[34mtidyr    \u001b[39m 1.3.1\n",
      "\u001b[32m✔\u001b[39m \u001b[34mpurrr    \u001b[39m 1.0.2     \n",
      "── \u001b[1mConflicts\u001b[22m ────────────────────────────────────────── tidyverse_conflicts() ──\n",
      "\u001b[31m✖\u001b[39m \u001b[34mdplyr\u001b[39m::\u001b[32mfilter()\u001b[39m  masks \u001b[34mstats\u001b[39m::filter()\n",
      "\u001b[31m✖\u001b[39m \u001b[34mpurrr\u001b[39m::\u001b[32mflatten()\u001b[39m masks \u001b[34mjsonlite\u001b[39m::flatten()\n",
      "\u001b[31m✖\u001b[39m \u001b[34mdplyr\u001b[39m::\u001b[32mlag()\u001b[39m     masks \u001b[34mstats\u001b[39m::lag()\n",
      "\u001b[36mℹ\u001b[39m Use the conflicted package (\u001b[3m\u001b[34m<http://conflicted.r-lib.org/>\u001b[39m\u001b[23m) to force all conflicts to become errors\n"
     ]
    }
   ],
   "source": [
    "library(SBC);\n",
    "library(cmdstanr);\n",
    "library(jsonlite);\n",
    "library(tidyverse);\n",
    "options(mc.cores = parallel::detectCores());\n",
    "library(future);\n",
    "plan(multisession);\n",
    "\n",
    "options(SBC.min_chunk_size = 5);\n",
    "\n",
    "cache_dir <- \"./SBC_cache\"\n",
    "if(!dir.exists(cache_dir)) {\n",
    "    dir.create(cache_dir)\n",
    "}\n",
    "\n",
    "ALPHA <- 0.05\n",
    "model_BT_1 <- cmdstanr::cmdstan_model(\"../models/BT_model_1.stan\")\n",
    "model_BT_2 <- cmdstanr::cmdstan_model(\"../models/BT_model_2.stan\")\n"
   ]
  },
  {
   "cell_type": "code",
   "execution_count": 2,
   "metadata": {
    "vscode": {
     "languageId": "r"
    }
   },
   "outputs": [],
   "source": [
    "data_generator_single_BT_1 <- function(n_clubs){\n",
    "    n_seasons <- 1\n",
    "    clubs <- sprintf(\"Club %02d\", 1:n_clubs)\n",
    "    clubs <- 1:n_clubs\n",
    "    force <- rnorm(length(clubs))\n",
    "    df <- data.frame(Club = clubs, Force = force)\n",
    "    data <- merge(df, df, by = NULL) %>% filter(Club.x != Club.y)\n",
    "    data$prob.home <- exp(data$Force.x) / (exp(data$Force.x) + exp(data$Force.y))\n",
    "    data$home.wins <- 0\n",
    "\n",
    "    for (i in 1:n_seasons) {\n",
    "        data$random <- runif(n_clubs * (n_clubs - 1))\n",
    "        data$home.wins <- data$home.wins + (data$random <  data$prob.home) * 1\n",
    "    }\n",
    "\n",
    "    data$away.wins <- n_seasons - data$home.wins\n",
    "    data <- subset(data, select = -random)\n",
    "    data <- subset(data, select = -prob.home)\n",
    "    names(data) <- c(\"home_name\", \"home_force\", \"away_name\", \"away_force\",\n",
    "                     \"home_wins\", \"away_wins\")\n",
    "\n",
    "    list(\n",
    "        variables = list(\n",
    "            skill = force\n",
    "        ),\n",
    "        generated = list(\n",
    "            num_games = nrow(data),\n",
    "            num_teams = n_clubs,\n",
    "            team1 = data$home_name,\n",
    "            team2 = data$away_name,\n",
    "            team1_win = data$home_wins\n",
    "        )\n",
    "    )\n",
    "}"
   ]
  },
  {
   "cell_type": "code",
   "execution_count": 3,
   "metadata": {
    "vscode": {
     "languageId": "r"
    }
   },
   "outputs": [],
   "source": [
    "data_generator_single_BT_2 <- function(n_clubs){\n",
    "    n_seasons <- 1\n",
    "    clubs <- sprintf(\"Club %02d\", 1:n_clubs)\n",
    "    clubs <- 1:n_clubs\n",
    "    force <- rnorm(length(clubs))\n",
    "    home_force <- rnorm(1)\n",
    "    df <- data.frame(Club = clubs, Force = force)\n",
    "    data <- merge(df, df, by = NULL) %>% filter(Club.x != Club.y)\n",
    "    data$prob.home <- exp(data$Force.x + home_force) / (exp(data$Force.x) + exp(data$Force.y))\n",
    "    data$home.wins <- 0\n",
    "\n",
    "    for (i in 1:n_seasons) {\n",
    "        data$random <- runif(n_clubs * (n_clubs - 1))\n",
    "        data$home.wins <- data$home.wins + (data$random <  data$prob.home) * 1\n",
    "    }\n",
    "\n",
    "    data$away.wins <- n_seasons - data$home.wins\n",
    "    data <- subset(data, select = -random)\n",
    "    data <- subset(data, select = -prob.home)\n",
    "    names(data) <- c(\"home_name\", \"home_force\", \"away_name\", \"away_force\",\n",
    "                     \"home_wins\", \"away_wins\")\n",
    "\n",
    "    list(\n",
    "        variables = list(\n",
    "            skill = force,\n",
    "            home_advantage = home_force\n",
    "        ),\n",
    "        generated = list(\n",
    "            num_games = nrow(data),\n",
    "            num_teams = n_clubs,\n",
    "            team1 = data$home_name,\n",
    "            team2 = data$away_name,\n",
    "            team1_win = data$home_wins\n",
    "        )\n",
    "    )\n",
    "}"
   ]
  },
  {
   "cell_type": "code",
   "execution_count": 4,
   "metadata": {
    "vscode": {
     "languageId": "r"
    }
   },
   "outputs": [
    {
     "name": "stderr",
     "output_type": "stream",
     "text": [
      "Cache file exists but the backend hash differs. Will recompute.\n",
      "\n"
     ]
    }
   ],
   "source": [
    "set.seed(0)\n",
    "n_sims <- 250\n",
    "data_generator_BT_1 <- SBC_generator_function(data_generator_single_BT_1, n_clubs = 20)\n",
    "dataset_BT_1 <- generate_datasets(data_generator_BT_1, n_sims)\n",
    "backend_BT_1 <- SBC_backend_cmdstan_sample(model_BT_1, iter_warmup = 2000,\n",
    "                                           iter_sampling = 2500, chains = 4)\n",
    "\n",
    "results_BT_1 <- compute_SBC(dataset_BT_1, backend_BT_1,\n",
    "                            cache_mode = \"results\",\n",
    "                            cache_location = file.path(cache_dir, \"results_BT_1\"))\n",
    "    \n",
    "write.csv(results_BT_1$stats,\n",
    "          file = \"SBC_cache/results_BT_1.csv\")"
   ]
  },
  {
   "cell_type": "code",
   "execution_count": null,
   "metadata": {
    "vscode": {
     "languageId": "r"
    }
   },
   "outputs": [],
   "source": [
    "set.seed(0)\n",
    "n_sims <- 250\n",
    "data_generator_BT_2 <- SBC_generator_function(data_generator_single_BT_2, n_clubs = 20)\n",
    "dataset_BT_2 <- generate_datasets(data_generator_BT_2, n_sims)\n",
    "backend_BT_2 <- SBC_backend_cmdstan_sample(model_BT_2, iter_warmup = 2000,\n",
    "                                           iter_sampling = 2500, chains = 4)\n",
    "\n",
    "results_BT_2 <- compute_SBC(dataset_BT_2, backend_BT_2,\n",
    "                            cache_mode = \"results\",\n",
    "                            cache_location = file.path(cache_dir, \"results_BT_2\"))\n",
    "    \n",
    "write.csv(results_BT_2$stats,\n",
    "          file = \"SBC_cache/results_BT_2.csv\")"
   ]
  },
  {
   "cell_type": "code",
   "execution_count": null,
   "metadata": {
    "vscode": {
     "languageId": "r"
    }
   },
   "outputs": [],
   "source": [
    "plot_rank_hist(results_BT_1)\n",
    "plot_ecdf(results_BT_1)\n",
    "plot_ecdf_diff(results_BT_1)"
   ]
  },
  {
   "cell_type": "code",
   "execution_count": null,
   "metadata": {
    "vscode": {
     "languageId": "r"
    }
   },
   "outputs": [],
   "source": [
    "plot_rank_hist(results_BT_2)\n",
    "plot_ecdf(results_BT_2)\n",
    "plot_ecdf_diff(results_BT_2)"
   ]
  },
  {
   "cell_type": "code",
   "execution_count": null,
   "metadata": {
    "vscode": {
     "languageId": "r"
    }
   },
   "outputs": [],
   "source": [
    "results <- results_BT_1\n",
    "graph <- plot_ecdf(results)\n",
    "plot_data <- ggplot_build(graph)$data\n",
    "confidence_interval <- plot_data[[1]]\n",
    "ecdf <- plot_data[[2]]\n",
    "\n",
    "df1 <- merge(select(confidence_interval, - c(colour, fill, group, flipped_aes, linewidth, linetype, alpha, y)),\n",
    "             select(ecdf, - c(colour, fill, group, linewidth, linetype, alpha)),\n",
    "             by = c(\"PANEL\", \"x\"), all.x = TRUE) %>%\n",
    "       group_by(PANEL, x) %>%\n",
    "       summarize(ymax = max(ymax, na.rm = TRUE),\n",
    "                 ymin = max(ymin, na.rm = TRUE),\n",
    "                 y = max(y, na.rm = TRUE))\n",
    "\n",
    "df1$out <- (df1$ymax < df1$y) + (df1$ymin > df1$y)\n",
    "df1 <- df1 %>% group_by(PANEL) %>% summarise(out_ratio = sum(out))\n",
    "df1$out_ratio <- df1$out_ratio / length(unique(ecdf$x))\n",
    "df1$out <- df1$out_ratio > ALPHA\n",
    "\n",
    "graph <- plot_ecdf_diff(results)\n",
    "plot_data <- ggplot_build(graph)$data\n",
    "confidence_interval <- plot_data[[1]]\n",
    "ecdf <- plot_data[[2]]\n",
    "\n",
    "df2 <- merge(select(confidence_interval, - c(colour, fill, group, flipped_aes, linewidth, linetype, alpha, y)),\n",
    "             select(ecdf, - c(colour, fill, group, linewidth, linetype, alpha)),\n",
    "             by = c(\"PANEL\", \"x\"), all.x = TRUE) %>%\n",
    "       group_by(PANEL, x) %>%\n",
    "       summarize(ymax = max(ymax, na.rm = TRUE),\n",
    "                 ymin = max(ymin, na.rm = TRUE),\n",
    "                 y = max(y, na.rm = TRUE))\n",
    "\n",
    "df2$out <- (df2$ymax < df2$y) + (df2$ymin > df2$y)\n",
    "df2 <- df2 %>% group_by(PANEL) %>% summarise(out_ratio = sum(out))\n",
    "df2$out_ratio <- df2$out_ratio / length(unique(ecdf$x))\n",
    "df2$out <- df2$out_ratio > ALPHA\n",
    "\n",
    "final_df <- merge(df1, df2, by = \"PANEL\", suffixes = c(\"\", \"_diff\"))\n",
    "c(mean(as.numeric(final_df$out)), mean(as.numeric(final_df$out_diff)))"
   ]
  },
  {
   "cell_type": "code",
   "execution_count": null,
   "metadata": {
    "vscode": {
     "languageId": "r"
    }
   },
   "outputs": [],
   "source": [
    "results <- results_BT_2\n",
    "graph <- plot_ecdf(results)\n",
    "plot_data <- ggplot_build(graph)$data\n",
    "confidence_interval <- plot_data[[1]]\n",
    "ecdf <- plot_data[[2]]\n",
    "\n",
    "df1 <- merge(select(confidence_interval, - c(colour, fill, group, flipped_aes, linewidth, linetype, alpha, y)),\n",
    "             select(ecdf, - c(colour, fill, group, linewidth, linetype, alpha)),\n",
    "             by = c(\"PANEL\", \"x\"), all.x = TRUE) %>%\n",
    "       group_by(PANEL, x) %>%\n",
    "       summarize(ymax = max(ymax, na.rm = TRUE),\n",
    "                 ymin = max(ymin, na.rm = TRUE),\n",
    "                 y = max(y, na.rm = TRUE))\n",
    "\n",
    "df1$out <- (df1$ymax < df1$y) + (df1$ymin > df1$y)\n",
    "df1 <- df1 %>% group_by(PANEL) %>% summarise(out_ratio = sum(out))\n",
    "df1$out_ratio <- df1$out_ratio / length(unique(ecdf$x))\n",
    "df1$out <- df1$out_ratio > ALPHA\n",
    "\n",
    "graph <- plot_ecdf_diff(results)\n",
    "plot_data <- ggplot_build(graph)$data\n",
    "confidence_interval <- plot_data[[1]]\n",
    "ecdf <- plot_data[[2]]\n",
    "\n",
    "df2 <- merge(select(confidence_interval, - c(colour, fill, group, flipped_aes, linewidth, linetype, alpha, y)),\n",
    "             select(ecdf, - c(colour, fill, group, linewidth, linetype, alpha)),\n",
    "             by = c(\"PANEL\", \"x\"), all.x = TRUE) %>%\n",
    "       group_by(PANEL, x) %>%\n",
    "       summarize(ymax = max(ymax, na.rm = TRUE),\n",
    "                 ymin = max(ymin, na.rm = TRUE),\n",
    "                 y = max(y, na.rm = TRUE))\n",
    "\n",
    "df2$out <- (df2$ymax < df2$y) + (df2$ymin > df2$y)\n",
    "df2 <- df2 %>% group_by(PANEL) %>% summarise(out_ratio = sum(out))\n",
    "df2$out_ratio <- df2$out_ratio / length(unique(ecdf$x))\n",
    "df2$out <- df2$out_ratio > ALPHA\n",
    "\n",
    "final_df <- merge(df1, df2, by = \"PANEL\", suffixes = c(\"\", \"_diff\"))\n",
    "c(mean(as.numeric(final_df$out)), mean(as.numeric(final_df$out_diff)))"
   ]
  },
  {
   "cell_type": "code",
   "execution_count": null,
   "metadata": {
    "vscode": {
     "languageId": "r"
    }
   },
   "outputs": [],
   "source": [
    "data <- read_json('../real_data/BT_model_data.json')\n",
    "\n",
    "fit_BT_1 <- model_BT_1$sample(\n",
    "  data = data,\n",
    "  chains = 4,\n",
    "  parallel_chains = 4,\n",
    "  refresh = 500\n",
    ")"
   ]
  },
  {
   "cell_type": "code",
   "execution_count": null,
   "metadata": {
    "vscode": {
     "languageId": "r"
    }
   },
   "outputs": [],
   "source": [
    "fit_BT_1$summary(\n",
    "  variables = NULL,\n",
    "  posterior::default_summary_measures(),\n",
    "  extra_quantiles = ~posterior::quantile2(., probs = c(.0275, .975))\n",
    ")"
   ]
  },
  {
   "cell_type": "code",
   "execution_count": null,
   "metadata": {
    "vscode": {
     "languageId": "r"
    }
   },
   "outputs": [],
   "source": [
    "data <- read_json('../real_data/BT_model_data.json')\n",
    "\n",
    "fit_BT_2 <- model_BT_2$sample(\n",
    "  data = data,\n",
    "  chains = 4,\n",
    "  parallel_chains = 4,\n",
    "  refresh = 500\n",
    ")"
   ]
  },
  {
   "cell_type": "code",
   "execution_count": null,
   "metadata": {
    "vscode": {
     "languageId": "r"
    }
   },
   "outputs": [],
   "source": [
    "fit_BT_2$summary(\n",
    "  variables = NULL,\n",
    "  posterior::default_summary_measures(),\n",
    "  extra_quantiles = ~posterior::quantile2(., probs = c(.0275, .975))\n",
    ")"
   ]
  },
  {
   "cell_type": "code",
   "execution_count": null,
   "metadata": {
    "vscode": {
     "languageId": "r"
    }
   },
   "outputs": [],
   "source": []
  }
 ],
 "metadata": {
  "kernelspec": {
   "display_name": "R",
   "language": "R",
   "name": "ir"
  },
  "language_info": {
   "codemirror_mode": "r",
   "file_extension": ".r",
   "mimetype": "text/x-r-source",
   "name": "R",
   "pygments_lexer": "r",
   "version": "4.3.2"
  },
  "orig_nbformat": 4
 },
 "nbformat": 4,
 "nbformat_minor": 2
}
