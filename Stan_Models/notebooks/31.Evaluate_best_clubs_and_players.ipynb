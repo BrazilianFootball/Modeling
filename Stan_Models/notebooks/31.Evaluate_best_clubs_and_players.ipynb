{
 "cells": [
  {
   "cell_type": "code",
   "execution_count": 1,
   "metadata": {},
   "outputs": [],
   "source": [
    "import json\n",
    "import pandas as pd\n",
    "\n",
    "from itertools import product"
   ]
  },
  {
   "cell_type": "code",
   "execution_count": 2,
   "metadata": {},
   "outputs": [
    {
     "data": {
      "text/plain": [
       "{'327384': ['9Rodrigo Rodrigo Cunha Pereir ... TP327384',\n",
       "  '9Rodrigo Rodrigo Cunha Pereir ... RP327384'],\n",
       " '175719': ['2Rafael Rafael Pereira da Silva RP175719',\n",
       "  '2Rafael Rafael Pereira da Silva TP175719'],\n",
       " '795731': ['24Di Placido Leonel Di Placido TP795731',\n",
       "  '24Di Placido Leonel Di Placido RP795731'],\n",
       " '611858': ['18Andrey Santos Andrey Nascimento do ... TP611858'],\n",
       " '295214': ['17Gustavo Gustavo Campanharo RP295214',\n",
       "  '17Gustavo Gustavo Campanharo TP295214'],\n",
       " '459744': ['19Mugni Lucas Andres Mugni RP459744',\n",
       "  '19Mugni Lucas Andres Mugni TP459744'],\n",
       " '802129': ['16Henry Mosq ... Henry David Mosquera ... TP802129',\n",
       "  '16Henry Mosq ... Henry David Mosquera ... RP802129'],\n",
       " '292428': ['2Samuel Xavier Samuel Xavier Brito TP292428',\n",
       "  '2Samuel Xavier Samuel Xavier Brito RP292428'],\n",
       " '580701': ['9John Kennedy John Kennedy Batista ... RP580701',\n",
       "  '9John Kennedy John Kennedy Batista ... TP580701'],\n",
       " '322748': ['8Vitor Bueno Vitor Frezarin Bueno RP322748',\n",
       "  '8Vitor Bueno Vitor Frezarin Bueno TP322748'],\n",
       " '392224': ['26Murilo Murilo Cerqueira Paim RP392224',\n",
       "  '26Murilo Murilo Cerqueira Paim TP392224'],\n",
       " '292282': ['4Luciano Ca ... Luciano Castan da Silva TP292282'],\n",
       " '320839': ['23Gabriel Gabriel Girotto Franco TP320839',\n",
       "  '23Gabriel Gabriel Girotto Franco RP320839'],\n",
       " '547837': ['3Gabriel Xa ... Gabriel Lheman Xavier RP547837',\n",
       "  '3Gabriel Xa ... Gabriel Lheman Xavier TP547837'],\n",
       " '545434': ['31Juan Juan Santos da Silva TP545434',\n",
       "  '31Juan Juan Santos da Silva RP545434'],\n",
       " '793801': ['10Julian Julian Eduardo Palacios RP793801',\n",
       "  '10Julian Julian Eduardo Palacios TP793801'],\n",
       " '436395': ['9Yuri Alberto Yuri Alberto Monteir ... TP436395',\n",
       "  '9Yuri Alberto Yuri Alberto Monteir ... RP436395'],\n",
       " '331915': ['14Mateus Mateus Pasinato R(g)P331915',\n",
       "  '14Mateus Mateus Pasinato T(g)P331915'],\n",
       " '821213': ['19James Rodr ... James David Rodrigue ... RP821213',\n",
       "  '19James Rodr ... James David Rodrigue ... TP821213'],\n",
       " '595193': ['5Arboleda Robert Abel Arboleda ... RP595193',\n",
       "  '5Arboleda Robert Abel Arboleda ... TP595193']}"
      ]
     },
     "execution_count": 2,
     "metadata": {},
     "output_type": "execute_result"
    }
   ],
   "source": [
    "year = 2023\n",
    "top = 20\n",
    "\n",
    "with open(f\"../../../Data/results/processed/Serie_A_{year}_games.json\") as f: real_data = json.load(f)\n",
    "with open(f\"../real_data/Poisson_with_players_model_data_{year}.json\") as f: model_data = json.load(f)\n",
    "players_map = {idx: cod for idx, cod in enumerate(model_data['players'])}\n",
    "players_map = pd.Series(players_map)\n",
    "\n",
    "results = pd.read_csv(f\"../results/results_Poisson_with_players_{year}.csv\")\n",
    "results = results[results['variable'].str.contains('skills')]\n",
    "results['player_index'] = results['variable'].str.extract(r'skills\\[(\\d+)\\]').astype(int)\n",
    "results['player_cod'] = results['player_index'].map(players_map)\n",
    "top_players = results.sort_values(by=\"mean\", ascending=False).head(top)['player_cod'].tolist()\n",
    "top_players = {cod: list() for cod in top_players}\n",
    "\n",
    "for game in real_data:\n",
    "    players = real_data[game]['Players']\n",
    "    for cod, player in product(top_players, players):\n",
    "        if cod in player[0]:\n",
    "            top_players[cod].append(player[0])\n",
    "\n",
    "top_players = {k: list(set(v)) for k, v in top_players.items()}\n",
    "top_players"
   ]
  },
  {
   "cell_type": "code",
   "execution_count": null,
   "metadata": {},
   "outputs": [],
   "source": []
  }
 ],
 "metadata": {
  "kernelspec": {
   "display_name": "Python 3",
   "language": "python",
   "name": "python3"
  },
  "language_info": {
   "codemirror_mode": {
    "name": "ipython",
    "version": 3
   },
   "file_extension": ".py",
   "mimetype": "text/x-python",
   "name": "python",
   "nbconvert_exporter": "python",
   "pygments_lexer": "ipython3",
   "version": "3.8.12"
  }
 },
 "nbformat": 4,
 "nbformat_minor": 2
}
